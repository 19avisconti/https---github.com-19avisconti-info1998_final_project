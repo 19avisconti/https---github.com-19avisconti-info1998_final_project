{
 "cells": [
  {
   "cell_type": "markdown",
   "metadata": {},
   "source": [
    "__Final Project__"
   ]
  },
  {
   "cell_type": "markdown",
   "metadata": {},
   "source": [
    "# __Data Collection Process:__"
   ]
  },
  {
   "cell_type": "code",
   "execution_count": null,
   "metadata": {},
   "outputs": [],
   "source": [
    "import numpy as np\n",
    "import matplotlib.pyplot as plt\n",
    "import seaborn as sns\n",
    "import pandas as pd\n",
    "import spotipy\n",
    "from spotipy.oauth2 import SpotifyOAuth\n",
    "from spotipy.oauth2 import SpotifyClientCredentials\n",
    "import random\n",
    "import os\n",
    "from sklearn.preprocessing import MinMaxScaler\n",
    "from spotipy import Spotify \n",
    "from typing import List\n",
    "import oauth2\n",
    "from dotenv import load_dotenv"
   ]
  },
  {
   "cell_type": "markdown",
   "metadata": {},
   "source": [
    "### __Loading Client Information:__"
   ]
  },
  {
   "cell_type": "code",
   "execution_count": 10,
   "metadata": {},
   "outputs": [],
   "source": [
    "client_id = '5477354bc87a4af1b2b8b10e23998f8d'\n",
    "client_secret = '124885a709a44f5b9f4c251458e19a22'\n",
    "\n",
    "sp_cred = SpotifyClientCredentials(client_id=client_id, client_secret=client_secret)  \n",
    "sp = spotipy.Spotify(auth_manager=sp_cred)  \n",
    "\n",
    "# sp_oauth = SpotifyOAuth(client_id=client_id, client_secret=client_secret, )\n",
    "# token_info = sp_oauth.get_cached_token() \n",
    "# if not token_info:\n",
    "#     auth_url = sp_oauth.get_authorize_url(show_dialog=True)\n",
    "#     print(auth_url)\n",
    "#     response = input('Paste the above link into your browser, then paste the redirect url here: ')\n",
    "\n",
    "#     code = sp_oauth.parse_response_code(response)\n",
    "#     token_info = sp_oauth.get_access_token(code)\n",
    "\n",
    "#     token = token_info['access_token']\n",
    "\n",
    "# sp = spotipy.Spotify(auth=token)"
   ]
  },
  {
   "cell_type": "markdown",
   "metadata": {},
   "source": [
    "### __Collecting Artist Data:__"
   ]
  },
  {
   "cell_type": "code",
   "execution_count": 11,
   "metadata": {},
   "outputs": [
    {
     "name": "stdout",
     "output_type": "stream",
     "text": [
      "['Ronnie Cuber', 'Ryan Culwell', 'Swim The Current', 'Death Cult', 'CurseWeb', 'Curtis Walsh', 'Cuatro Gatos', 'Cultural Roots', 'Cunnie Williams', 'Cuencos Tibetanos', 'Current Comfort', 'Los Hermanos Cuestas', 'Los Plebes de la Cuadra', 'Leftover Cuties', 'Leonardo Cupelli', 'Christian Cueva', 'Cuarto Grado', 'Clara Cuvé', 'The Curly', 'Cuerdas Colombianas']\n"
     ]
    }
   ],
   "source": [
    "def get_random_artists(limit=20, min_popularity=20, \n",
    "                                max_popularity=100):\n",
    "    artist_list = []\n",
    "\n",
    "    search_queries = [\n",
    "        'cu', 'vu', 'bu', 'wu', 'ru', \n",
    "        'pu', 'qu', 'su', 'lu', 'nu']\n",
    "\n",
    "    for query in search_queries:\n",
    "        results = sp.search(q=f'artist:{query}', \n",
    "                            type='artist', market='US', \n",
    "                            limit=50, \n",
    "                            offset=random.randint(0, 950))\n",
    "        for artist in results['artists']['items']:\n",
    "            if min_popularity <= artist['popularity'] \\\n",
    "                <= max_popularity:\n",
    "                artist_list.append(artist['name'])\n",
    "                if len(artist_list) >= limit:\n",
    "                    return artist_list[:limit]\n",
    "\n",
    "    return artist_list[:limit]\n",
    "\n",
    "# Fetch random artists\n",
    "artists = get_random_artists()\n",
    "print(artists)\n"
   ]
  },
  {
   "cell_type": "markdown",
   "metadata": {},
   "source": [
    "### __Collecting Song Data:__"
   ]
  },
  {
   "cell_type": "code",
   "execution_count": 12,
   "metadata": {},
   "outputs": [
    {
     "name": "stdout",
     "output_type": "stream",
     "text": [
      "track: Passion Fruit\n"
     ]
    },
    {
     "name": "stderr",
     "output_type": "stream",
     "text": [
      "Max Retries reached\n"
     ]
    },
    {
     "ename": "SpotifyException",
     "evalue": "http status: 429, code:-1 - /v1/audio-features/?ids=4760YTvGff1alhNSX5qIlO:\n Max Retries, reason: too many 429 error responses",
     "output_type": "error",
     "traceback": [
      "\u001b[0;31m---------------------------------------------------------------------------\u001b[0m",
      "\u001b[0;31mResponseError\u001b[0m                             Traceback (most recent call last)",
      "\u001b[0;31mResponseError\u001b[0m: too many 429 error responses",
      "\nThe above exception was the direct cause of the following exception:\n",
      "\u001b[0;31mMaxRetryError\u001b[0m                             Traceback (most recent call last)",
      "File \u001b[0;32m/opt/anaconda3/envs/info2950/lib/python3.12/site-packages/requests/adapters.py:667\u001b[0m, in \u001b[0;36mHTTPAdapter.send\u001b[0;34m(self, request, stream, timeout, verify, cert, proxies)\u001b[0m\n\u001b[1;32m    666\u001b[0m \u001b[38;5;28;01mtry\u001b[39;00m:\n\u001b[0;32m--> 667\u001b[0m     resp \u001b[38;5;241m=\u001b[39m conn\u001b[38;5;241m.\u001b[39murlopen(\n\u001b[1;32m    668\u001b[0m         method\u001b[38;5;241m=\u001b[39mrequest\u001b[38;5;241m.\u001b[39mmethod,\n\u001b[1;32m    669\u001b[0m         url\u001b[38;5;241m=\u001b[39murl,\n\u001b[1;32m    670\u001b[0m         body\u001b[38;5;241m=\u001b[39mrequest\u001b[38;5;241m.\u001b[39mbody,\n\u001b[1;32m    671\u001b[0m         headers\u001b[38;5;241m=\u001b[39mrequest\u001b[38;5;241m.\u001b[39mheaders,\n\u001b[1;32m    672\u001b[0m         redirect\u001b[38;5;241m=\u001b[39m\u001b[38;5;28;01mFalse\u001b[39;00m,\n\u001b[1;32m    673\u001b[0m         assert_same_host\u001b[38;5;241m=\u001b[39m\u001b[38;5;28;01mFalse\u001b[39;00m,\n\u001b[1;32m    674\u001b[0m         preload_content\u001b[38;5;241m=\u001b[39m\u001b[38;5;28;01mFalse\u001b[39;00m,\n\u001b[1;32m    675\u001b[0m         decode_content\u001b[38;5;241m=\u001b[39m\u001b[38;5;28;01mFalse\u001b[39;00m,\n\u001b[1;32m    676\u001b[0m         retries\u001b[38;5;241m=\u001b[39m\u001b[38;5;28mself\u001b[39m\u001b[38;5;241m.\u001b[39mmax_retries,\n\u001b[1;32m    677\u001b[0m         timeout\u001b[38;5;241m=\u001b[39mtimeout,\n\u001b[1;32m    678\u001b[0m         chunked\u001b[38;5;241m=\u001b[39mchunked,\n\u001b[1;32m    679\u001b[0m     )\n\u001b[1;32m    681\u001b[0m \u001b[38;5;28;01mexcept\u001b[39;00m (ProtocolError, \u001b[38;5;167;01mOSError\u001b[39;00m) \u001b[38;5;28;01mas\u001b[39;00m err:\n",
      "File \u001b[0;32m/opt/anaconda3/envs/info2950/lib/python3.12/site-packages/urllib3/connectionpool.py:944\u001b[0m, in \u001b[0;36mHTTPConnectionPool.urlopen\u001b[0;34m(self, method, url, body, headers, retries, redirect, assert_same_host, timeout, pool_timeout, release_conn, chunked, body_pos, preload_content, decode_content, **response_kw)\u001b[0m\n\u001b[1;32m    943\u001b[0m     log\u001b[38;5;241m.\u001b[39mdebug(\u001b[38;5;124m\"\u001b[39m\u001b[38;5;124mRetry: \u001b[39m\u001b[38;5;132;01m%s\u001b[39;00m\u001b[38;5;124m\"\u001b[39m, url)\n\u001b[0;32m--> 944\u001b[0m     \u001b[38;5;28;01mreturn\u001b[39;00m \u001b[38;5;28mself\u001b[39m\u001b[38;5;241m.\u001b[39murlopen(\n\u001b[1;32m    945\u001b[0m         method,\n\u001b[1;32m    946\u001b[0m         url,\n\u001b[1;32m    947\u001b[0m         body,\n\u001b[1;32m    948\u001b[0m         headers,\n\u001b[1;32m    949\u001b[0m         retries\u001b[38;5;241m=\u001b[39mretries,\n\u001b[1;32m    950\u001b[0m         redirect\u001b[38;5;241m=\u001b[39mredirect,\n\u001b[1;32m    951\u001b[0m         assert_same_host\u001b[38;5;241m=\u001b[39massert_same_host,\n\u001b[1;32m    952\u001b[0m         timeout\u001b[38;5;241m=\u001b[39mtimeout,\n\u001b[1;32m    953\u001b[0m         pool_timeout\u001b[38;5;241m=\u001b[39mpool_timeout,\n\u001b[1;32m    954\u001b[0m         release_conn\u001b[38;5;241m=\u001b[39mrelease_conn,\n\u001b[1;32m    955\u001b[0m         chunked\u001b[38;5;241m=\u001b[39mchunked,\n\u001b[1;32m    956\u001b[0m         body_pos\u001b[38;5;241m=\u001b[39mbody_pos,\n\u001b[1;32m    957\u001b[0m         preload_content\u001b[38;5;241m=\u001b[39mpreload_content,\n\u001b[1;32m    958\u001b[0m         decode_content\u001b[38;5;241m=\u001b[39mdecode_content,\n\u001b[1;32m    959\u001b[0m         \u001b[38;5;241m*\u001b[39m\u001b[38;5;241m*\u001b[39mresponse_kw,\n\u001b[1;32m    960\u001b[0m     )\n\u001b[1;32m    962\u001b[0m \u001b[38;5;28;01mreturn\u001b[39;00m response\n",
      "File \u001b[0;32m/opt/anaconda3/envs/info2950/lib/python3.12/site-packages/urllib3/connectionpool.py:944\u001b[0m, in \u001b[0;36mHTTPConnectionPool.urlopen\u001b[0;34m(self, method, url, body, headers, retries, redirect, assert_same_host, timeout, pool_timeout, release_conn, chunked, body_pos, preload_content, decode_content, **response_kw)\u001b[0m\n\u001b[1;32m    943\u001b[0m     log\u001b[38;5;241m.\u001b[39mdebug(\u001b[38;5;124m\"\u001b[39m\u001b[38;5;124mRetry: \u001b[39m\u001b[38;5;132;01m%s\u001b[39;00m\u001b[38;5;124m\"\u001b[39m, url)\n\u001b[0;32m--> 944\u001b[0m     \u001b[38;5;28;01mreturn\u001b[39;00m \u001b[38;5;28mself\u001b[39m\u001b[38;5;241m.\u001b[39murlopen(\n\u001b[1;32m    945\u001b[0m         method,\n\u001b[1;32m    946\u001b[0m         url,\n\u001b[1;32m    947\u001b[0m         body,\n\u001b[1;32m    948\u001b[0m         headers,\n\u001b[1;32m    949\u001b[0m         retries\u001b[38;5;241m=\u001b[39mretries,\n\u001b[1;32m    950\u001b[0m         redirect\u001b[38;5;241m=\u001b[39mredirect,\n\u001b[1;32m    951\u001b[0m         assert_same_host\u001b[38;5;241m=\u001b[39massert_same_host,\n\u001b[1;32m    952\u001b[0m         timeout\u001b[38;5;241m=\u001b[39mtimeout,\n\u001b[1;32m    953\u001b[0m         pool_timeout\u001b[38;5;241m=\u001b[39mpool_timeout,\n\u001b[1;32m    954\u001b[0m         release_conn\u001b[38;5;241m=\u001b[39mrelease_conn,\n\u001b[1;32m    955\u001b[0m         chunked\u001b[38;5;241m=\u001b[39mchunked,\n\u001b[1;32m    956\u001b[0m         body_pos\u001b[38;5;241m=\u001b[39mbody_pos,\n\u001b[1;32m    957\u001b[0m         preload_content\u001b[38;5;241m=\u001b[39mpreload_content,\n\u001b[1;32m    958\u001b[0m         decode_content\u001b[38;5;241m=\u001b[39mdecode_content,\n\u001b[1;32m    959\u001b[0m         \u001b[38;5;241m*\u001b[39m\u001b[38;5;241m*\u001b[39mresponse_kw,\n\u001b[1;32m    960\u001b[0m     )\n\u001b[1;32m    962\u001b[0m \u001b[38;5;28;01mreturn\u001b[39;00m response\n",
      "File \u001b[0;32m/opt/anaconda3/envs/info2950/lib/python3.12/site-packages/urllib3/connectionpool.py:944\u001b[0m, in \u001b[0;36mHTTPConnectionPool.urlopen\u001b[0;34m(self, method, url, body, headers, retries, redirect, assert_same_host, timeout, pool_timeout, release_conn, chunked, body_pos, preload_content, decode_content, **response_kw)\u001b[0m\n\u001b[1;32m    943\u001b[0m     log\u001b[38;5;241m.\u001b[39mdebug(\u001b[38;5;124m\"\u001b[39m\u001b[38;5;124mRetry: \u001b[39m\u001b[38;5;132;01m%s\u001b[39;00m\u001b[38;5;124m\"\u001b[39m, url)\n\u001b[0;32m--> 944\u001b[0m     \u001b[38;5;28;01mreturn\u001b[39;00m \u001b[38;5;28mself\u001b[39m\u001b[38;5;241m.\u001b[39murlopen(\n\u001b[1;32m    945\u001b[0m         method,\n\u001b[1;32m    946\u001b[0m         url,\n\u001b[1;32m    947\u001b[0m         body,\n\u001b[1;32m    948\u001b[0m         headers,\n\u001b[1;32m    949\u001b[0m         retries\u001b[38;5;241m=\u001b[39mretries,\n\u001b[1;32m    950\u001b[0m         redirect\u001b[38;5;241m=\u001b[39mredirect,\n\u001b[1;32m    951\u001b[0m         assert_same_host\u001b[38;5;241m=\u001b[39massert_same_host,\n\u001b[1;32m    952\u001b[0m         timeout\u001b[38;5;241m=\u001b[39mtimeout,\n\u001b[1;32m    953\u001b[0m         pool_timeout\u001b[38;5;241m=\u001b[39mpool_timeout,\n\u001b[1;32m    954\u001b[0m         release_conn\u001b[38;5;241m=\u001b[39mrelease_conn,\n\u001b[1;32m    955\u001b[0m         chunked\u001b[38;5;241m=\u001b[39mchunked,\n\u001b[1;32m    956\u001b[0m         body_pos\u001b[38;5;241m=\u001b[39mbody_pos,\n\u001b[1;32m    957\u001b[0m         preload_content\u001b[38;5;241m=\u001b[39mpreload_content,\n\u001b[1;32m    958\u001b[0m         decode_content\u001b[38;5;241m=\u001b[39mdecode_content,\n\u001b[1;32m    959\u001b[0m         \u001b[38;5;241m*\u001b[39m\u001b[38;5;241m*\u001b[39mresponse_kw,\n\u001b[1;32m    960\u001b[0m     )\n\u001b[1;32m    962\u001b[0m \u001b[38;5;28;01mreturn\u001b[39;00m response\n",
      "File \u001b[0;32m/opt/anaconda3/envs/info2950/lib/python3.12/site-packages/urllib3/connectionpool.py:934\u001b[0m, in \u001b[0;36mHTTPConnectionPool.urlopen\u001b[0;34m(self, method, url, body, headers, retries, redirect, assert_same_host, timeout, pool_timeout, release_conn, chunked, body_pos, preload_content, decode_content, **response_kw)\u001b[0m\n\u001b[1;32m    933\u001b[0m \u001b[38;5;28;01mtry\u001b[39;00m:\n\u001b[0;32m--> 934\u001b[0m     retries \u001b[38;5;241m=\u001b[39m retries\u001b[38;5;241m.\u001b[39mincrement(method, url, response\u001b[38;5;241m=\u001b[39mresponse, _pool\u001b[38;5;241m=\u001b[39m\u001b[38;5;28mself\u001b[39m)\n\u001b[1;32m    935\u001b[0m \u001b[38;5;28;01mexcept\u001b[39;00m MaxRetryError:\n",
      "File \u001b[0;32m/opt/anaconda3/envs/info2950/lib/python3.12/site-packages/urllib3/util/retry.py:519\u001b[0m, in \u001b[0;36mRetry.increment\u001b[0;34m(self, method, url, response, error, _pool, _stacktrace)\u001b[0m\n\u001b[1;32m    518\u001b[0m     reason \u001b[38;5;241m=\u001b[39m error \u001b[38;5;129;01mor\u001b[39;00m ResponseError(cause)\n\u001b[0;32m--> 519\u001b[0m     \u001b[38;5;28;01mraise\u001b[39;00m MaxRetryError(_pool, url, reason) \u001b[38;5;28;01mfrom\u001b[39;00m \u001b[38;5;21;01mreason\u001b[39;00m  \u001b[38;5;66;03m# type: ignore[arg-type]\u001b[39;00m\n\u001b[1;32m    521\u001b[0m log\u001b[38;5;241m.\u001b[39mdebug(\u001b[38;5;124m\"\u001b[39m\u001b[38;5;124mIncremented Retry for (url=\u001b[39m\u001b[38;5;124m'\u001b[39m\u001b[38;5;132;01m%s\u001b[39;00m\u001b[38;5;124m'\u001b[39m\u001b[38;5;124m): \u001b[39m\u001b[38;5;132;01m%r\u001b[39;00m\u001b[38;5;124m\"\u001b[39m, url, new_retry)\n",
      "\u001b[0;31mMaxRetryError\u001b[0m: HTTPSConnectionPool(host='api.spotify.com', port=443): Max retries exceeded with url: /v1/audio-features/?ids=4760YTvGff1alhNSX5qIlO (Caused by ResponseError('too many 429 error responses'))",
      "\nDuring handling of the above exception, another exception occurred:\n",
      "\u001b[0;31mRetryError\u001b[0m                                Traceback (most recent call last)",
      "File \u001b[0;32m/opt/anaconda3/envs/info2950/lib/python3.12/site-packages/spotipy/client.py:270\u001b[0m, in \u001b[0;36mSpotify._internal_call\u001b[0;34m(self, method, url, payload, params)\u001b[0m\n\u001b[1;32m    269\u001b[0m \u001b[38;5;28;01mtry\u001b[39;00m:\n\u001b[0;32m--> 270\u001b[0m     response \u001b[38;5;241m=\u001b[39m \u001b[38;5;28mself\u001b[39m\u001b[38;5;241m.\u001b[39m_session\u001b[38;5;241m.\u001b[39mrequest(\n\u001b[1;32m    271\u001b[0m         method, url, headers\u001b[38;5;241m=\u001b[39mheaders, proxies\u001b[38;5;241m=\u001b[39m\u001b[38;5;28mself\u001b[39m\u001b[38;5;241m.\u001b[39mproxies,\n\u001b[1;32m    272\u001b[0m         timeout\u001b[38;5;241m=\u001b[39m\u001b[38;5;28mself\u001b[39m\u001b[38;5;241m.\u001b[39mrequests_timeout, \u001b[38;5;241m*\u001b[39m\u001b[38;5;241m*\u001b[39margs\n\u001b[1;32m    273\u001b[0m     )\n\u001b[1;32m    275\u001b[0m     response\u001b[38;5;241m.\u001b[39mraise_for_status()\n",
      "File \u001b[0;32m/opt/anaconda3/envs/info2950/lib/python3.12/site-packages/requests/sessions.py:589\u001b[0m, in \u001b[0;36mSession.request\u001b[0;34m(self, method, url, params, data, headers, cookies, files, auth, timeout, allow_redirects, proxies, hooks, stream, verify, cert, json)\u001b[0m\n\u001b[1;32m    588\u001b[0m send_kwargs\u001b[38;5;241m.\u001b[39mupdate(settings)\n\u001b[0;32m--> 589\u001b[0m resp \u001b[38;5;241m=\u001b[39m \u001b[38;5;28mself\u001b[39m\u001b[38;5;241m.\u001b[39msend(prep, \u001b[38;5;241m*\u001b[39m\u001b[38;5;241m*\u001b[39msend_kwargs)\n\u001b[1;32m    591\u001b[0m \u001b[38;5;28;01mreturn\u001b[39;00m resp\n",
      "File \u001b[0;32m/opt/anaconda3/envs/info2950/lib/python3.12/site-packages/requests/sessions.py:703\u001b[0m, in \u001b[0;36mSession.send\u001b[0;34m(self, request, **kwargs)\u001b[0m\n\u001b[1;32m    702\u001b[0m \u001b[38;5;66;03m# Send the request\u001b[39;00m\n\u001b[0;32m--> 703\u001b[0m r \u001b[38;5;241m=\u001b[39m adapter\u001b[38;5;241m.\u001b[39msend(request, \u001b[38;5;241m*\u001b[39m\u001b[38;5;241m*\u001b[39mkwargs)\n\u001b[1;32m    705\u001b[0m \u001b[38;5;66;03m# Total elapsed time of the request (approximately)\u001b[39;00m\n",
      "File \u001b[0;32m/opt/anaconda3/envs/info2950/lib/python3.12/site-packages/requests/adapters.py:691\u001b[0m, in \u001b[0;36mHTTPAdapter.send\u001b[0;34m(self, request, stream, timeout, verify, cert, proxies)\u001b[0m\n\u001b[1;32m    690\u001b[0m \u001b[38;5;28;01mif\u001b[39;00m \u001b[38;5;28misinstance\u001b[39m(e\u001b[38;5;241m.\u001b[39mreason, ResponseError):\n\u001b[0;32m--> 691\u001b[0m     \u001b[38;5;28;01mraise\u001b[39;00m RetryError(e, request\u001b[38;5;241m=\u001b[39mrequest)\n\u001b[1;32m    693\u001b[0m \u001b[38;5;28;01mif\u001b[39;00m \u001b[38;5;28misinstance\u001b[39m(e\u001b[38;5;241m.\u001b[39mreason, _ProxyError):\n",
      "\u001b[0;31mRetryError\u001b[0m: HTTPSConnectionPool(host='api.spotify.com', port=443): Max retries exceeded with url: /v1/audio-features/?ids=4760YTvGff1alhNSX5qIlO (Caused by ResponseError('too many 429 error responses'))",
      "\nDuring handling of the above exception, another exception occurred:\n",
      "\u001b[0;31mSpotifyException\u001b[0m                          Traceback (most recent call last)",
      "Cell \u001b[0;32mIn[12], line 8\u001b[0m\n\u001b[1;32m      3\u001b[0m results \u001b[38;5;241m=\u001b[39m sp\u001b[38;5;241m.\u001b[39msearch(q\u001b[38;5;241m=\u001b[39m\u001b[38;5;124mf\u001b[39m\u001b[38;5;124m'\u001b[39m\u001b[38;5;124martist:\u001b[39m\u001b[38;5;132;01m{\u001b[39;00martist\u001b[38;5;132;01m}\u001b[39;00m\u001b[38;5;124m'\u001b[39m, \n\u001b[1;32m      4\u001b[0m                     \u001b[38;5;28mtype\u001b[39m\u001b[38;5;241m=\u001b[39m\u001b[38;5;124m'\u001b[39m\u001b[38;5;124mtrack\u001b[39m\u001b[38;5;124m'\u001b[39m, limit\u001b[38;5;241m=\u001b[39m\u001b[38;5;241m10\u001b[39m)\n\u001b[1;32m      5\u001b[0m \u001b[38;5;28;01mfor\u001b[39;00m track \u001b[38;5;129;01min\u001b[39;00m results[\u001b[38;5;124m'\u001b[39m\u001b[38;5;124mtracks\u001b[39m\u001b[38;5;124m'\u001b[39m][\u001b[38;5;124m'\u001b[39m\u001b[38;5;124mitems\u001b[39m\u001b[38;5;124m'\u001b[39m]:\n\u001b[1;32m      6\u001b[0m \n\u001b[1;32m      7\u001b[0m     \u001b[38;5;66;03m# Get audio features for the track\u001b[39;00m\n\u001b[0;32m----> 8\u001b[0m     audio_features \u001b[38;5;241m=\u001b[39m sp\u001b[38;5;241m.\u001b[39maudio_features(track[\u001b[38;5;124m'\u001b[39m\u001b[38;5;124mid\u001b[39m\u001b[38;5;124m'\u001b[39m])[\u001b[38;5;241m0\u001b[39m]\n\u001b[1;32m     10\u001b[0m     \u001b[38;5;66;03m# Get the popularity of the song and the artist\u001b[39;00m\n\u001b[1;32m     11\u001b[0m     song_name \u001b[38;5;241m=\u001b[39m track[\u001b[38;5;124m'\u001b[39m\u001b[38;5;124mname\u001b[39m\u001b[38;5;124m'\u001b[39m]\n",
      "File \u001b[0;32m/opt/anaconda3/envs/info2950/lib/python3.12/site-packages/spotipy/client.py:1750\u001b[0m, in \u001b[0;36mSpotify.audio_features\u001b[0;34m(self, tracks)\u001b[0m\n\u001b[1;32m   1748\u001b[0m \u001b[38;5;28;01mif\u001b[39;00m \u001b[38;5;28misinstance\u001b[39m(tracks, \u001b[38;5;28mstr\u001b[39m):\n\u001b[1;32m   1749\u001b[0m     trackid \u001b[38;5;241m=\u001b[39m \u001b[38;5;28mself\u001b[39m\u001b[38;5;241m.\u001b[39m_get_id(\u001b[38;5;124m\"\u001b[39m\u001b[38;5;124mtrack\u001b[39m\u001b[38;5;124m\"\u001b[39m, tracks)\n\u001b[0;32m-> 1750\u001b[0m     results \u001b[38;5;241m=\u001b[39m \u001b[38;5;28mself\u001b[39m\u001b[38;5;241m.\u001b[39m_get(\u001b[38;5;124m\"\u001b[39m\u001b[38;5;124maudio-features/?ids=\u001b[39m\u001b[38;5;124m\"\u001b[39m \u001b[38;5;241m+\u001b[39m trackid)\n\u001b[1;32m   1751\u001b[0m \u001b[38;5;28;01melse\u001b[39;00m:\n\u001b[1;32m   1752\u001b[0m     tlist \u001b[38;5;241m=\u001b[39m [\u001b[38;5;28mself\u001b[39m\u001b[38;5;241m.\u001b[39m_get_id(\u001b[38;5;124m\"\u001b[39m\u001b[38;5;124mtrack\u001b[39m\u001b[38;5;124m\"\u001b[39m, t) \u001b[38;5;28;01mfor\u001b[39;00m t \u001b[38;5;129;01min\u001b[39;00m tracks]\n",
      "File \u001b[0;32m/opt/anaconda3/envs/info2950/lib/python3.12/site-packages/spotipy/client.py:327\u001b[0m, in \u001b[0;36mSpotify._get\u001b[0;34m(self, url, args, payload, **kwargs)\u001b[0m\n\u001b[1;32m    324\u001b[0m \u001b[38;5;28;01mif\u001b[39;00m args:\n\u001b[1;32m    325\u001b[0m     kwargs\u001b[38;5;241m.\u001b[39mupdate(args)\n\u001b[0;32m--> 327\u001b[0m \u001b[38;5;28;01mreturn\u001b[39;00m \u001b[38;5;28mself\u001b[39m\u001b[38;5;241m.\u001b[39m_internal_call(\u001b[38;5;124m\"\u001b[39m\u001b[38;5;124mGET\u001b[39m\u001b[38;5;124m\"\u001b[39m, url, payload, kwargs)\n",
      "File \u001b[0;32m/opt/anaconda3/envs/info2950/lib/python3.12/site-packages/spotipy/client.py:311\u001b[0m, in \u001b[0;36mSpotify._internal_call\u001b[0;34m(self, method, url, payload, params)\u001b[0m\n\u001b[1;32m    309\u001b[0m     \u001b[38;5;28;01mexcept\u001b[39;00m (\u001b[38;5;167;01mIndexError\u001b[39;00m, \u001b[38;5;167;01mAttributeError\u001b[39;00m):\n\u001b[1;32m    310\u001b[0m         reason \u001b[38;5;241m=\u001b[39m \u001b[38;5;28;01mNone\u001b[39;00m\n\u001b[0;32m--> 311\u001b[0m     \u001b[38;5;28;01mraise\u001b[39;00m SpotifyException(\n\u001b[1;32m    312\u001b[0m         \u001b[38;5;241m429\u001b[39m,\n\u001b[1;32m    313\u001b[0m         \u001b[38;5;241m-\u001b[39m\u001b[38;5;241m1\u001b[39m,\n\u001b[1;32m    314\u001b[0m         \u001b[38;5;124mf\u001b[39m\u001b[38;5;124m\"\u001b[39m\u001b[38;5;132;01m{\u001b[39;00mrequest\u001b[38;5;241m.\u001b[39mpath_url\u001b[38;5;132;01m}\u001b[39;00m\u001b[38;5;124m:\u001b[39m\u001b[38;5;130;01m\\n\u001b[39;00m\u001b[38;5;124m Max Retries\u001b[39m\u001b[38;5;124m\"\u001b[39m,\n\u001b[1;32m    315\u001b[0m         reason\u001b[38;5;241m=\u001b[39mreason\n\u001b[1;32m    316\u001b[0m     )\n\u001b[1;32m    317\u001b[0m \u001b[38;5;28;01mexcept\u001b[39;00m \u001b[38;5;167;01mValueError\u001b[39;00m:\n\u001b[1;32m    318\u001b[0m     results \u001b[38;5;241m=\u001b[39m \u001b[38;5;28;01mNone\u001b[39;00m\n",
      "\u001b[0;31mSpotifyException\u001b[0m: http status: 429, code:-1 - /v1/audio-features/?ids=4760YTvGff1alhNSX5qIlO:\n Max Retries, reason: too many 429 error responses"
     ]
    }
   ],
   "source": [
    "songs_data = []\n",
    "for artist in artists:\n",
    "    results = sp.search(q=f'artist:{artist}', \n",
    "                        type='track', limit=10)\n",
    "    for track in results['tracks']['items']:\n",
    "\n",
    "        # Get audio features for the track\n",
    "        audio_features = sp.audio_features(track['id'])[0]\n",
    "\n",
    "        # Get the popularity of the song and the artist\n",
    "        song_name = track['name']\n",
    "        song_popularity = track['popularity']\n",
    "        artist_popularity = results['tracks']['items'][0]['popularity']\n",
    "        \n",
    "        print(f\"track: {song_name}\")\n",
    "\n",
    "        # Exclude the main artist\n",
    "        featured_artists = track['artists'][1:]  \n",
    "\n",
    "        # Get the popularity of the first featured artist\n",
    "        if featured_artists:\n",
    "            first_featured_artist = featured_artists[0]['name']\n",
    "            \n",
    "            search_result = sp.search(q=f'artist:\\\n",
    "                    {first_featured_artist}', type='artist')\n",
    "            if search_result['artists']['items']:\n",
    "                items = search_result['artists']['items']\n",
    "                \n",
    "                first_featured_artist_popularity = items[0]\\\n",
    "                    ['popularity']\n",
    "            else:\n",
    "                first_featured_artist_popularity = None\n",
    "        else:\n",
    "            first_featured_artist = None\n",
    "            first_featured_artist_popularity = None\n",
    "\n",
    "        # Add the audio features\n",
    "        if audio_features:\n",
    "            id = track['id'],\n",
    "            album = track['album']['name'],\n",
    "            release_date = track['album']['release_date'],\n",
    "            duration = track['duration_ms'],\n",
    "            explicit = track['explicit'],\n",
    "            danceability = audio_features['danceability'],\n",
    "            energy = audio_features['energy'],\n",
    "            key = audio_features['key'],\n",
    "            loudness = audio_features['loudness'],\n",
    "            mode = audio_features['mode'],\n",
    "            speechiness = audio_features['speechiness'],\n",
    "            acousticness = audio_features['acousticness'],\n",
    "            instrumentalness = audio_features['instrumentalness'],\n",
    "            liveness = audio_features['liveness'],\n",
    "            valence = audio_features['valence'],\n",
    "            tempo = audio_features['tempo']\n",
    "        else:\n",
    "            id = None\n",
    "            album = None\n",
    "            release_date = None\n",
    "            duration = None\n",
    "            explicit = None\n",
    "            danceability = None\n",
    "            energy = None\n",
    "            key = None\n",
    "            loudness = None\n",
    "            mode = None\n",
    "            speechiness = None\n",
    "            acousticness = None\n",
    "            instrumentalness = None\n",
    "            liveness = None\n",
    "            valence = None\n",
    "            tempo = None\n",
    "        \n",
    "        # Add the data to the list\n",
    "        songs_data.append({\n",
    "            'Artist': artist,\n",
    "            'Song': song_name,\n",
    "            'Song Popularity': song_popularity,\n",
    "            'Artist Popularity': artist_popularity,\n",
    "            'Featured Artist': first_featured_artist,\n",
    "            'Featured Artist Popularity': \n",
    "            first_featured_artist_popularity,\n",
    "            'Track ID': id,\n",
    "            'Album Name': album,\n",
    "            'Release Date': release_date,\n",
    "            'Duration (ms)': duration,\n",
    "            'Explicit': explicit,\n",
    "            'Danceability': danceability,\n",
    "            'Energy': energy,\n",
    "            'Key': key,\n",
    "            'Loudness': loudness,\n",
    "            'Mode': mode,\n",
    "            'Speechiness': speechiness,\n",
    "            'Acousticness': acousticness,\n",
    "            'Instrumentalness': instrumentalness,\n",
    "            'Liveness': liveness,\n",
    "            'Valence': valence,\n",
    "            'Tempo': tempo\n",
    "            \n",
    "        })\n",
    "\n",
    "songs_df = pd.DataFrame(songs_data)\n",
    "\n",
    "print(songs_df.head())"
   ]
  },
  {
   "cell_type": "code",
   "execution_count": 77,
   "metadata": {},
   "outputs": [
    {
     "data": {
      "text/plain": [
       "17424"
      ]
     },
     "execution_count": 77,
     "metadata": {},
     "output_type": "execute_result"
    }
   ],
   "source": [
    "songs_df.size"
   ]
  },
  {
   "cell_type": "markdown",
   "metadata": {},
   "source": [
    "### __Data Cleaning__"
   ]
  },
  {
   "cell_type": "code",
   "execution_count": 78,
   "metadata": {},
   "outputs": [
    {
     "name": "stdout",
     "output_type": "stream",
     "text": [
      "                                     Artist                            Song  \\\n",
      "0                              Curtis Walsh                   Full Recovery   \n",
      "1                              Curtis Walsh            Perfect Rain - Remix   \n",
      "2                              Curtis Walsh                    Perfect Rain   \n",
      "3                              Curtis Walsh       Seven Seas (Konmak Remix)   \n",
      "4                              Curtis Walsh                      Seven Seas   \n",
      "..                                      ...                             ...   \n",
      "787  Los Internacionales Nenes de la Cumbia  Tu Abandono / Perdonarte Jamás   \n",
      "788  Los Internacionales Nenes de la Cumbia                    Sufro por Ti   \n",
      "789  Los Internacionales Nenes de la Cumbia                 Marcado - Remix   \n",
      "790  Los Internacionales Nenes de la Cumbia                   Parrandita 88   \n",
      "791  Los Internacionales Nenes de la Cumbia       Guitarra Chichera - Remix   \n",
      "\n",
      "     Song Popularity  Artist Popularity Featured Artist  \\\n",
      "0                 31                 31            None   \n",
      "1                 29                 31   Trial & Error   \n",
      "2                 29                 31            None   \n",
      "3                 24                 31          Konmak   \n",
      "4                 23                 31            None   \n",
      "..               ...                ...             ...   \n",
      "787               21                 38            None   \n",
      "788               22                 38            None   \n",
      "789               21                 38            None   \n",
      "790               14                 38            None   \n",
      "791               16                 38            None   \n",
      "\n",
      "     Featured Artist Popularity                Track ID  \\\n",
      "0                           NaN  5iRdHQaLCTW165qzj2HM5c   \n",
      "1                          46.0  4q8IMtch1lVEtQX8bM7h59   \n",
      "2                           NaN  4NNOyxGLkTe2rG3aEdFgYC   \n",
      "3                          12.0  7da0wlfvxMO6zpzOEgGgAT   \n",
      "4                           NaN  1RpTxbZSfDqw0oNv3x7CST   \n",
      "..                          ...                     ...   \n",
      "787                         NaN  64n05MoRrE543ExaBHModf   \n",
      "788                         NaN  11pKeyXGrtKos39mFmFykg   \n",
      "789                         NaN  5InAHHcFF7Q7WGqejrepYV   \n",
      "790                         NaN  73F0YVZZ3qTwuKufHLzBeT   \n",
      "791                         NaN  0v1QqBP9qwnKWGvC0ejqrS   \n",
      "\n",
      "                  Album Name Release Date Duration (ms)  ... Energy Key  \\\n",
      "0              Full Recovery   2018-07-27        176134  ...   0.31   9   \n",
      "1         Perfect Rain Remix   2018-11-23        172598  ...  0.661   7   \n",
      "2               Perfect Rain   2018-11-02        163883  ...  0.637   7   \n",
      "3    Seven Seas Konmak Remix   2019-11-22        166956  ...  0.922   6   \n",
      "4                 Seven Seas   2019-07-26        165080  ...  0.747   6   \n",
      "..                       ...          ...           ...  ...    ...  ..   \n",
      "787           Grandes Éxitos   2020-08-09        537053  ...  0.906   9   \n",
      "788           Grandes Éxitos   2020-08-09        567760  ...  0.746   9   \n",
      "789           Grandes Éxitos   2020-08-09        515599  ...  0.855   9   \n",
      "790           Grandes Éxitos   2020-08-09        795404  ...  0.818   7   \n",
      "791           Grandes Éxitos   2020-08-09        677357  ...  0.684   9   \n",
      "\n",
      "    Loudness Mode Speechiness Acousticness Instrumentalness Liveness Valence  \\\n",
      "0     -9.752    1      0.0465        0.789                0    0.111   0.401   \n",
      "1     -7.253    1      0.0466       0.0745         1.19e-05    0.171   0.397   \n",
      "2     -6.496    1      0.0646        0.699                0    0.113    0.15   \n",
      "3     -4.506    0       0.141        0.119                0   0.0629   0.506   \n",
      "4     -5.693    0       0.059        0.336                0    0.294   0.708   \n",
      "..       ...  ...         ...          ...              ...      ...     ...   \n",
      "787    -1.89    0      0.0483        0.552                0    0.221   0.819   \n",
      "788   -6.491    1       0.046        0.568                0    0.267   0.875   \n",
      "789   -0.519    1      0.0395        0.592                0   0.0783   0.754   \n",
      "790   -3.503    1      0.0377        0.716                0    0.352   0.825   \n",
      "791   -5.542    0      0.0566        0.738                0     0.45   0.798   \n",
      "\n",
      "       Tempo  \n",
      "0    153.142  \n",
      "1    116.972  \n",
      "2    116.888  \n",
      "3    115.086  \n",
      "4     90.006  \n",
      "..       ...  \n",
      "787  114.147  \n",
      "788  112.904  \n",
      "789  112.999  \n",
      "790  123.299  \n",
      "791  114.943  \n",
      "\n",
      "[792 rows x 22 columns]\n"
     ]
    }
   ],
   "source": [
    "# Columns to exclude from cleaning\n",
    "exclude_columns = ['Artist', 'Song', 'Song Popularity', 'Artist Popularity', 'Featured Artist', 'Featured Artist Popularity']\n",
    "\n",
    "# Function to clean the data\n",
    "def clean_data(value):\n",
    "    if isinstance(value, str):\n",
    "        value = value.replace(\"(\", \"\").replace(\")\", \"\").replace(\"'\", \"\").replace(\",\", \"\")\n",
    "    return value\n",
    "\n",
    "# Apply cleaning function to all columns except the excluded ones\n",
    "for col in songs_df.columns:\n",
    "    if col not in exclude_columns:\n",
    "        # Convert column to string before applying the cleaning function\n",
    "        songs_df[col] = songs_df[col].astype(str).apply(clean_data)\n",
    "\n",
    "# Save the cleaned DataFrame to CSV\n",
    "songs_df.to_csv('tracks1.csv', index=False)\n",
    "\n",
    "print(songs_df)"
   ]
  },
  {
   "cell_type": "markdown",
   "metadata": {},
   "source": [
    "## __Writing to CSV__"
   ]
  },
  {
   "cell_type": "code",
   "execution_count": null,
   "metadata": {},
   "outputs": [],
   "source": [
    "existing_df = pd.read_csv('tracks1.csv')\n",
    "combined_df = pd.concat([existing_df, songs_df], ignore_index=True)\n",
    "combined_df.to_csv('tracks.csv', index=False)"
   ]
  },
  {
   "cell_type": "markdown",
   "metadata": {},
   "source": [
    "# Research Question\n",
    "\n",
    "Can we predict how popular a track is based on how popular the artist and featured artists are?"
   ]
  },
  {
   "cell_type": "markdown",
   "metadata": {},
   "source": [
    "## Model 1"
   ]
  },
  {
   "cell_type": "code",
   "execution_count": null,
   "metadata": {},
   "outputs": [],
   "source": [
    "# Drop all rows where any popularity score is less than 10\n",
    "filtered_df = combined_df[(combined_df['Song Popularity'] >= 10) & \n",
    "                          (combined_df['Artist Popularity'] >= 10) & \n",
    "                          (combined_df['Featured Artist Popularity'].fillna(10) >= 10)]\n",
    "\n",
    "print(filtered_df)\n",
    "\n",
    "# Save the filtered DataFrame to CSV\n",
    "filtered_df.to_csv('filtered_tracks.csv', index=False)"
   ]
  },
  {
   "cell_type": "code",
   "execution_count": null,
   "metadata": {},
   "outputs": [],
   "source": [
    "from sklearn.linear_model import LinearRegression\n",
    "from sklearn.model_selection import train_test_split\n",
    "from matplotlib import pyplot as plt\n",
    "from sklearn.metrics import root_mean_squared_error\n",
    "\n",
    "#Model for Artist Popularity \n",
    "model_artist = LinearRegression()\n",
    "#Prepare data\n",
    "x_artist = filtered_df[[\"Artist Popularity\"]]\n",
    "y_artist = filtered_df[\"Song Popularity\"]\n",
    "#Splits the data into training and testing sets\n",
    "x_art_tr, x_art_te, y_art_tr, y_art_te = train_test_split(x_artist, y_artist, test_size=0.2, random_state=42)\n",
    "#Fits model with training data\n",
    "model_artist.fit(x_art_tr, y_art_tr)\n",
    "#Predicts testing set based on model\n",
    "art_pred = model_artist.predict(x_art_te)\n",
    "#Calculates mean squared error of the Song Popularity Testing data and predicted data\n",
    "art_mean_sq_error = root_mean_squared_error(y_art_te, art_pred) **2\n",
    "#Prints error and scores for model\n",
    "print(\"mean sqaured error (artist):\", art_mean_sq_error)\n",
    "print(\"training score for model (artist):\", model_artist.score(x_art_tr, y_art_tr))\n",
    "print(\"testing score for model (artist):\", model_artist.score(x_art_te, y_art_te))\n",
    "\n",
    "#Model for Featured Artist Popularity \n",
    "model_feature = LinearRegression()\n",
    "#Prepare data\n",
    "x_feature = filtered_df[[\"Featured Artist Popularity\"]]\n",
    "y_feature = filtered_df[\"Song Popularity\"]\n",
    "#Splits the data into training and testing sets\n",
    "x_feat_tr, x_feat_te, y_feat_tr, y_feat_te = train_test_split(x_feature, y_feature, test_size=0.2, random_state=42)\n",
    "#Fits model with training data\n",
    "model_feature.fit(x_feat_tr, y_feat_tr)\n",
    "#Predicts testing set based on model\n",
    "feat_pred = model_feature.predict(x_feat_te)\n",
    "#Calculates mean squared error of the Song Popularity Testing data and predicted data\n",
    "feat_mean_sq_error = root_mean_squared_error(y_feat_te, feat_pred) **2\n",
    "#Prints error and scores for model\n",
    "print(\"mean sqaured error (feature):\", feat_mean_sq_error)\n",
    "print(\"training score for model (feature):\", model_feature.score(x_feat_tr, y_feat_tr))\n",
    "print(\"testing score for model (feature):\", model_feature.score(x_feat_te, y_feat_te))\n",
    "\n",
    "#Model for Artist Popularity and Featured Artist Popularity \n",
    "model_2 = LinearRegression()\n",
    "#Prepare data\n",
    "X = filtered_df[[\"Artist Popularity\", \"Featured Artist Popularity\"]]\n",
    "Y = filtered_df[\"Song Popularity\"]\n",
    "#Splits the data into training and testing sets\n",
    "x_train, x_test, y_train, y_test = train_test_split(X, Y, test_size=0.2, random_state=42)\n",
    "#Fits model with training data\n",
    "model_2.fit(x_train, y_train)\n",
    "#Predicts testing set based on model\n",
    "predictions = model_2.predict(x_test)\n",
    "#Calculates mean squared error of the Song Popularity Testing data and predicted data\n",
    "mean_sq_error = root_mean_squared_error(y_test, predictions) **2\n",
    "#Prints error and scores for model\n",
    "print(\"mean sqaured error (both):\", mean_sq_error)\n",
    "print(\"training score for model (both):\", model_2.score(x_train, y_train))\n",
    "print(\"testing score for model (both):\", model_2.score(x_test, y_test))\n",
    "\n",
    "#Plots results for Artist and Featured Artist Popularity Separately \n",
    "# plt.subplots(figsize=(15, 5))\n",
    "# plt.subplot(121)\n",
    "# plt.scatter(x_art_te, y_art_te)\n",
    "# plt.plot(x_art_te, art_pred, 'k', linewidth=4)\n",
    "# plt.legend([\"Predictions\",\"Actual Values\"])\n",
    "# plt.title('Tracks Linear Regression')\n",
    "# plt.xlabel('Artist Popularity')\n",
    "# plt.ylabel('Song Popularity')\n",
    "\n",
    "# plt.subplot(122)\n",
    "# plt.scatter(x_feat_te, y_feat_te)\n",
    "# plt.plot(x_feat_te, feat_pred, 'k', linewidth=4)\n",
    "# plt.legend([\"Predictions\",\"Actual Values\"])\n",
    "# plt.title('Tracks Linear Regression')\n",
    "# plt.xlabel('Featured Artist Popularity')\n",
    "# plt.ylabel('Song Popularity')\n",
    "\n",
    "plt.figure(figsize=(10, 6))\n",
    "plt.scatter(y_test, predictions, alpha=0.5, color='red', label='Predicted')\n",
    "plt.scatter(y_test, y_test, alpha=0.5, color='blue', label='Actual')\n",
    "plt.xlabel(\"Actual Popularity\")\n",
    "plt.ylabel(\"Predicted Popularity\")\n",
    "plt.title(\"Linear Regression: Actual vs Predicted Popularity\")\n",
    "plt.legend()\n",
    "plt.show()"
   ]
  },
  {
   "cell_type": "markdown",
   "metadata": {},
   "source": [
    "## Visualization for Model 1"
   ]
  },
  {
   "cell_type": "markdown",
   "metadata": {},
   "source": [
    "## Model 2: Decision Trees"
   ]
  },
  {
   "cell_type": "code",
   "execution_count": 14,
   "metadata": {},
   "outputs": [
    {
     "name": "stdout",
     "output_type": "stream",
     "text": [
      "             Artist                            Song  Song Popularity  \\\n",
      "0      Curtis Walsh                   Full Recovery               31   \n",
      "1      Curtis Walsh            Perfect Rain - Remix               29   \n",
      "2      Curtis Walsh                    Perfect Rain               29   \n",
      "3      Curtis Walsh       Seven Seas (Konmak Remix)               24   \n",
      "4      Curtis Walsh                      Seven Seas               23   \n",
      "...             ...                             ...              ...   \n",
      "12468  Curtis Walsh       Seven Seas (Konmak Remix)               24   \n",
      "12469  Curtis Walsh      mm mm good (in the cellar)               12   \n",
      "12473  Curtis Walsh                   Time's Fading               13   \n",
      "12475  Curtis Walsh  Perfect Rain - Ultrabeat Remix               10   \n",
      "12477  Curtis Walsh                       Landslide               12   \n",
      "\n",
      "       Artist Popularity Featured Artist  Featured Artist Popularity  \\\n",
      "0                     31             NaN                         NaN   \n",
      "1                     31   Trial & Error                        46.0   \n",
      "2                     31             NaN                         NaN   \n",
      "3                     31          Konmak                        12.0   \n",
      "4                     31             NaN                         NaN   \n",
      "...                  ...             ...                         ...   \n",
      "12468                 31          Konmak                        17.0   \n",
      "12469                 31         Curtisy                        58.0   \n",
      "12473                 31             NaN                         NaN   \n",
      "12475                 31       Ultrabeat                        49.0   \n",
      "12477                 31       loyalties                        35.0   \n",
      "\n",
      "                     Track ID                    Album Name Release Date  \\\n",
      "0      5iRdHQaLCTW165qzj2HM5c                 Full Recovery   2018-07-27   \n",
      "1      4q8IMtch1lVEtQX8bM7h59            Perfect Rain Remix   2018-11-23   \n",
      "2      4NNOyxGLkTe2rG3aEdFgYC                  Perfect Rain   2018-11-02   \n",
      "3      7da0wlfvxMO6zpzOEgGgAT       Seven Seas Konmak Remix   2019-11-22   \n",
      "4      1RpTxbZSfDqw0oNv3x7CST                    Seven Seas   2019-07-26   \n",
      "...                       ...                           ...          ...   \n",
      "12468  7da0wlfvxMO6zpzOEgGgAT       Seven Seas Konmak Remix   2019-11-22   \n",
      "12469  6aQQy6RB8LeQfqjluHZMy1                     few beers   2023-08-30   \n",
      "12473  56O9PQKg2UjQHBLZbin6p2                \"Times Fading\"   2019-05-17   \n",
      "12475  7MCmuCX0PDAhOYo8rwDiuQ  Perfect Rain Ultrabeat Remix   2022-03-11   \n",
      "12477  7DKsYgxFtvl3aTPcpOdAMp                     Landslide   2023-12-08   \n",
      "\n",
      "       Duration (ms)  ... Energy   Key  Loudness  Mode  Speechiness  \\\n",
      "0           176134.0  ...  0.310   9.0    -9.752   1.0       0.0465   \n",
      "1           172598.0  ...  0.661   7.0    -7.253   1.0       0.0466   \n",
      "2           163883.0  ...  0.637   7.0    -6.496   1.0       0.0646   \n",
      "3           166956.0  ...  0.922   6.0    -4.506   0.0       0.1410   \n",
      "4           165080.0  ...  0.747   6.0    -5.693   0.0       0.0590   \n",
      "...              ...  ...    ...   ...       ...   ...          ...   \n",
      "12468       166956.0  ...  0.922   6.0    -4.506   0.0       0.1410   \n",
      "12469       215696.0  ...  0.613   6.0    -7.886   0.0       0.2580   \n",
      "12473       197509.0  ...  0.351   6.0    -6.353   0.0       0.0399   \n",
      "12475       251666.0  ...  0.785  11.0    -5.116   0.0       0.0564   \n",
      "12477       187684.0  ...  0.679   8.0    -5.906   0.0       0.0832   \n",
      "\n",
      "       Acousticness  Instrumentalness  Liveness  Valence    Tempo  \n",
      "0            0.7890          0.000000    0.1110    0.401  153.142  \n",
      "1            0.0745          0.000012    0.1710    0.397  116.972  \n",
      "2            0.6990          0.000000    0.1130    0.150  116.888  \n",
      "3            0.1190          0.000000    0.0629    0.506  115.086  \n",
      "4            0.3360          0.000000    0.2940    0.708   90.006  \n",
      "...             ...               ...       ...      ...      ...  \n",
      "12468        0.1190          0.000000    0.0629    0.506  115.086  \n",
      "12469        0.2580          0.000000    0.4480    0.658   86.976  \n",
      "12473        0.6670          0.000000    0.1450    0.331  120.180  \n",
      "12475        0.0044          0.000000    0.1250    0.379  143.988  \n",
      "12477        0.2720          0.000001    0.1270    0.399   98.780  \n",
      "\n",
      "[8354 rows x 22 columns]\n"
     ]
    }
   ],
   "source": [
    "# Drop all rows where any popularity score is less than 10\n",
    "filtered_df = combined_df[(combined_df['Song Popularity'] >= 10) & \n",
    "                          (combined_df['Artist Popularity'] >= 10) & \n",
    "                          (combined_df['Featured Artist Popularity'].fillna(10) >= 10)]\n",
    "\n",
    "print(filtered_df)\n",
    "\n",
    "# Save the filtered DataFrame to CSV\n",
    "filtered_df.to_csv('filtered_tracks.csv', index=False)"
   ]
  },
  {
   "cell_type": "code",
   "execution_count": 19,
   "metadata": {},
   "outputs": [
    {
     "name": "stdout",
     "output_type": "stream",
     "text": [
      "Mean Squared Error: 131.23922871549814\n"
     ]
    },
    {
     "data": {
      "image/png": "[encoded data removed]",
      "text/plain": [
       "<Figure size 1000x600 with 1 Axes>"
      ]
     },
     "metadata": {},
     "output_type": "display_data"
    }
   ],
   "source": [
    "from sklearn.model_selection import train_test_split\n",
    "from sklearn.tree import DecisionTreeRegressor\n",
    "from sklearn.metrics import mean_squared_error\n",
    "from sklearn.neural_network import MLPRegressor\n",
    "\n",
    "\n",
    "\n",
    "# Prepare the data\n",
    "X = filtered_df[['Artist Popularity', 'Featured Artist Popularity']].fillna(0)\n",
    "y = filtered_df['Song Popularity']\n",
    "\n",
    "# Split the data into training and testing sets\n",
    "X_train, X_test, y_train, y_test = train_test_split(X, y, test_size=0.2, random_state=42)\n",
    "\n",
    "# Create and train the neural network regressor\n",
    "nn_regressor = MLPRegressor(hidden_layer_sizes=(100, 50), max_iter=1000, random_state=42)\n",
    "nn_regressor.fit(X_train, y_train)\n",
    "\n",
    "# Make predictions\n",
    "y_pred = nn_regressor.predict(X_test)\n",
    "\n",
    "# Evaluate the model\n",
    "mse = mean_squared_error(y_test, y_pred)\n",
    "print(f\"Mean Squared Error: {mse}\")\n",
    "\n",
    "# Plot the results\n",
    "plt.figure(figsize=(10, 6))\n",
    "plt.scatter(y_test, y_pred, alpha=0.5, color='red', label='Predicted')\n",
    "plt.scatter(y_test, y_test, alpha=0.5, color='blue', label='Actual')\n",
    "plt.xlabel(\"Actual Popularity\")\n",
    "plt.ylabel(\"Predicted Popularity\")\n",
    "plt.title(\"Neural Network Regression: Actual vs Predicted Popularity\")\n",
    "plt.legend()\n",
    "plt.show()"
   ]
  },
  {
   "cell_type": "markdown",
   "metadata": {},
   "source": [
    "## Visualization for Model 2"
   ]
  },
  {
   "cell_type": "markdown",
   "metadata": {},
   "source": [
    "# EXPLAIN EACH SECTION!!!"
   ]
  },
  {
   "cell_type": "markdown",
   "metadata": {},
   "source": []
  }
 ],
 "metadata": {
  "kernelspec": {
   "display_name": "info2950",
   "language": "python",
   "name": "python3"
  },
  "language_info": {
   "codemirror_mode": {
    "name": "ipython",
    "version": 3
   },
   "file_extension": ".py",
   "mimetype": "text/x-python",
   "name": "python",
   "nbconvert_exporter": "python",
   "pygments_lexer": "ipython3",
   "version": "3.12.4"
  }
 },
 "nbformat": 4,
 "nbformat_minor": 2
}
